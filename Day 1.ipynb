{
 "cells": [
  {
   "cell_type": "code",
   "execution_count": 2,
   "id": "0e7242e7-338e-434c-91e2-8e1e209ee53a",
   "metadata": {},
   "outputs": [
    {
     "name": "stdout",
     "output_type": "stream",
     "text": [
      "Hello World\n"
     ]
    }
   ],
   "source": [
    "print('Hello World')"
   ]
  },
  {
   "cell_type": "code",
   "execution_count": 3,
   "id": "d0f33b49-43b3-4858-9c68-12e27a338de6",
   "metadata": {},
   "outputs": [
    {
     "name": "stdout",
     "output_type": "stream",
     "text": [
      "6\n"
     ]
    }
   ],
   "source": [
    "print(6)"
   ]
  },
  {
   "cell_type": "code",
   "execution_count": 4,
   "id": "cbbd938e-e70f-4d35-b8c8-eb70764b5944",
   "metadata": {},
   "outputs": [
    {
     "name": "stdout",
     "output_type": "stream",
     "text": [
      "5.6\n"
     ]
    }
   ],
   "source": [
    "print(5.6)"
   ]
  },
  {
   "cell_type": "code",
   "execution_count": 5,
   "id": "fa0b4bfb-1a68-42f0-b71b-a2869f00a596",
   "metadata": {},
   "outputs": [
    {
     "name": "stdout",
     "output_type": "stream",
     "text": [
      "False\n"
     ]
    }
   ],
   "source": [
    "print(False)"
   ]
  },
  {
   "cell_type": "code",
   "execution_count": 6,
   "id": "1cdb3ab3-f9aa-4998-825a-f726195af3fd",
   "metadata": {},
   "outputs": [
    {
     "name": "stdout",
     "output_type": "stream",
     "text": [
      "India Pakistan Srilanka\n"
     ]
    }
   ],
   "source": [
    "print('India','Pakistan','Srilanka')"
   ]
  },
  {
   "cell_type": "code",
   "execution_count": 7,
   "id": "0ffd720f-7c07-4cf0-8f03-3e5fd1032d03",
   "metadata": {},
   "outputs": [
    {
     "name": "stdout",
     "output_type": "stream",
     "text": [
      "India 5 True\n"
     ]
    }
   ],
   "source": [
    "print('India',5,True)"
   ]
  },
  {
   "cell_type": "code",
   "execution_count": 8,
   "id": "a5c82e54-7e44-44a9-b0d6-fb5fca3f1972",
   "metadata": {},
   "outputs": [
    {
     "name": "stdout",
     "output_type": "stream",
     "text": [
      "India-Pakistan-Srilanka\n"
     ]
    }
   ],
   "source": [
    "print('India','Pakistan','Srilanka',sep='-')"
   ]
  },
  {
   "cell_type": "code",
   "execution_count": 9,
   "id": "60af6190-c763-476f-82ac-2b14480c6fef",
   "metadata": {},
   "outputs": [
    {
     "name": "stdout",
     "output_type": "stream",
     "text": [
      "Hello\n",
      "world\n"
     ]
    }
   ],
   "source": [
    "print('Hello')\n",
    "print('world')"
   ]
  },
  {
   "cell_type": "code",
   "execution_count": 10,
   "id": "fee57329-28ec-4575-a782-7785f7e15fe3",
   "metadata": {},
   "outputs": [
    {
     "name": "stdout",
     "output_type": "stream",
     "text": [
      "Helloworld\n"
     ]
    }
   ],
   "source": [
    "print('Hello',end='')\n",
    "print('world')"
   ]
  },
  {
   "cell_type": "markdown",
   "id": "6d0a3a65-6f9f-4e64-abeb-e6db81b17076",
   "metadata": {},
   "source": [
    "Data Types"
   ]
  },
  {
   "cell_type": "markdown",
   "id": "6a6c41ea-056e-4ed4-9e28-11459c1a5f82",
   "metadata": {},
   "source": [
    "Python supports 3 data types\n",
    "1) Basic types(int,float,complex,boolean,string)\n",
    "\n",
    "2)container types ( list,tuples,sets,dictionary)\n",
    "\n",
    "3)user defined types - class (oops concept)"
   ]
  },
  {
   "cell_type": "code",
   "execution_count": 2,
   "id": "00626447-1820-4623-9945-67f7f9a5f0f7",
   "metadata": {},
   "outputs": [
    {
     "name": "stdout",
     "output_type": "stream",
     "text": [
      "5\n",
      "inf\n"
     ]
    }
   ],
   "source": [
    "#integer\n",
    "print(5)\n",
    "print(1e309)"
   ]
  },
  {
   "cell_type": "code",
   "execution_count": 3,
   "id": "c1b5060c-d84b-474c-bd80-5127601de9c8",
   "metadata": {},
   "outputs": [
    {
     "name": "stdout",
     "output_type": "stream",
     "text": [
      "4.5\n",
      "1.7e+308\n"
     ]
    }
   ],
   "source": [
    "#float\n",
    "print(4.5)\n",
    "print(1.7e308)"
   ]
  },
  {
   "cell_type": "code",
   "execution_count": 4,
   "id": "a2dfb7ef-fb47-40b8-9fba-bd453d007744",
   "metadata": {},
   "outputs": [
    {
     "name": "stdout",
     "output_type": "stream",
     "text": [
      "True\n",
      "False\n"
     ]
    }
   ],
   "source": [
    "#boolean\n",
    "print(True)\n",
    "print(False)"
   ]
  },
  {
   "cell_type": "code",
   "execution_count": 5,
   "id": "fd593737-61c5-45c2-bb5c-f9f5b7cb81d3",
   "metadata": {},
   "outputs": [
    {
     "name": "stdout",
     "output_type": "stream",
     "text": [
      "(4+5j)\n"
     ]
    }
   ],
   "source": [
    "#complex\n",
    "print(4+5j)"
   ]
  },
  {
   "cell_type": "code",
   "execution_count": 6,
   "id": "20623905-1e66-4667-9a7e-2c0357feb6ef",
   "metadata": {},
   "outputs": [
    {
     "name": "stdout",
     "output_type": "stream",
     "text": [
      "westBengal\n",
      "WestBengal\n",
      "WestBengal\n"
     ]
    }
   ],
   "source": [
    "#string\n",
    "print('westBengal')\n",
    "print(\"WestBengal\")\n",
    "print(\"\"\"WestBengal\"\"\")"
   ]
  },
  {
   "cell_type": "code",
   "execution_count": 9,
   "id": "913245b6-db99-41f2-828a-841ed6364927",
   "metadata": {},
   "outputs": [
    {
     "name": "stdout",
     "output_type": "stream",
     "text": [
      "[1, 2, 3, 4, 5]\n"
     ]
    }
   ],
   "source": [
    "#list\n",
    "print([1,2,3,4,5])"
   ]
  },
  {
   "cell_type": "code",
   "execution_count": 8,
   "id": "7e91c2db-40ed-432c-bb87-c852a79db345",
   "metadata": {},
   "outputs": [
    {
     "name": "stdout",
     "output_type": "stream",
     "text": [
      "(1, 2, 3, 4)\n"
     ]
    }
   ],
   "source": [
    "#tuple\n",
    "print((1,2,3,4))"
   ]
  },
  {
   "cell_type": "code",
   "execution_count": 10,
   "id": "cb4e3caf-ae75-461e-9964-9bb13d96ac80",
   "metadata": {},
   "outputs": [
    {
     "name": "stdout",
     "output_type": "stream",
     "text": [
      "{1, 2, 3, 4, 5}\n"
     ]
    }
   ],
   "source": [
    "#sets\n",
    "print({1,2,3,4,5})"
   ]
  },
  {
   "cell_type": "code",
   "execution_count": 11,
   "id": "b98eefd0-88f2-452e-8ee8-6bb3709608a7",
   "metadata": {},
   "outputs": [
    {
     "name": "stdout",
     "output_type": "stream",
     "text": [
      "{'name': 'korak', 'age': 23, 'gender': 'Male'}\n"
     ]
    }
   ],
   "source": [
    "#dictionary\n",
    "print({\"name\":\"korak\",\"age\":23,\"gender\":\"Male\"})"
   ]
  },
  {
   "cell_type": "code",
   "execution_count": 12,
   "id": "9bf521b1-5544-4838-87b2-e81500e97d90",
   "metadata": {},
   "outputs": [],
   "source": [
    "#comments"
   ]
  },
  {
   "cell_type": "code",
   "execution_count": 13,
   "id": "9219e6df-44a6-47f3-811c-0a37e440622e",
   "metadata": {},
   "outputs": [],
   "source": [
    "#c lang\n",
    "# int a = 5"
   ]
  },
  {
   "cell_type": "code",
   "execution_count": 14,
   "id": "20491f26-8a69-4e11-a76d-e34e9c140b42",
   "metadata": {},
   "outputs": [],
   "source": [
    "name = 'korak'"
   ]
  },
  {
   "cell_type": "code",
   "execution_count": 15,
   "id": "363f6bde-6008-4438-a4a8-83904d9a4fc4",
   "metadata": {},
   "outputs": [
    {
     "name": "stdout",
     "output_type": "stream",
     "text": [
      "korak\n"
     ]
    }
   ],
   "source": [
    "print(name)"
   ]
  },
  {
   "cell_type": "code",
   "execution_count": 16,
   "id": "50b2779f-e749-416b-92bc-10119a037af8",
   "metadata": {},
   "outputs": [],
   "source": [
    "# no variable declaration"
   ]
  },
  {
   "cell_type": "code",
   "execution_count": 18,
   "id": "1c8fe561-5c52-4a9a-99f1-94b98d5bf11a",
   "metadata": {},
   "outputs": [],
   "source": [
    "# Dynamic Typing --> python, php\n",
    "# Static Typing"
   ]
  },
  {
   "cell_type": "code",
   "execution_count": 19,
   "id": "08522fc7-340e-42e7-87d3-934f15542574",
   "metadata": {},
   "outputs": [
    {
     "name": "stdout",
     "output_type": "stream",
     "text": [
      "korak\n"
     ]
    }
   ],
   "source": [
    "print(name)"
   ]
  },
  {
   "cell_type": "code",
   "execution_count": 20,
   "id": "5f996ca1-9706-499b-81ce-51eafb7b6c22",
   "metadata": {},
   "outputs": [
    {
     "name": "stdout",
     "output_type": "stream",
     "text": [
      "4\n"
     ]
    }
   ],
   "source": [
    "name = 4 \n",
    "print(name)"
   ]
  },
  {
   "cell_type": "code",
   "execution_count": 21,
   "id": "d767ed1f-971f-4205-ad25-fdc52ac15cd0",
   "metadata": {},
   "outputs": [
    {
     "name": "stdout",
     "output_type": "stream",
     "text": [
      "True\n"
     ]
    }
   ],
   "source": [
    "name = True\n",
    "print(name)"
   ]
  },
  {
   "cell_type": "code",
   "execution_count": 22,
   "id": "1f774a05-12f8-4324-b859-38e165bf7f74",
   "metadata": {},
   "outputs": [],
   "source": [
    "# Dynamic Binding"
   ]
  },
  {
   "cell_type": "code",
   "execution_count": 23,
   "id": "9d498add-5657-4545-8aee-8de3c1284f99",
   "metadata": {},
   "outputs": [],
   "source": [
    "# Static Binding"
   ]
  },
  {
   "cell_type": "code",
   "execution_count": 24,
   "id": "9303e7a9-07de-4c43-8cb5-9d6d83e8fd11",
   "metadata": {},
   "outputs": [
    {
     "name": "stdout",
     "output_type": "stream",
     "text": [
      "5\n",
      "6\n",
      "7\n"
     ]
    }
   ],
   "source": [
    "# special syntax\n",
    "\n",
    "a = 5;b=6;c=7\n",
    "print(a)\n",
    "print(b)\n",
    "print(c)"
   ]
  },
  {
   "cell_type": "code",
   "execution_count": 25,
   "id": "aa1a19b4-78b5-4b40-8737-c7c4c2bee9b4",
   "metadata": {},
   "outputs": [
    {
     "name": "stdout",
     "output_type": "stream",
     "text": [
      "5\n",
      "6\n",
      "7\n"
     ]
    }
   ],
   "source": [
    "a,b,c= 5,6,7\n",
    "print(a)\n",
    "print(b)\n",
    "print(c)\n"
   ]
  },
  {
   "cell_type": "code",
   "execution_count": 26,
   "id": "e985032f-19a8-4272-93e4-efb435a69287",
   "metadata": {},
   "outputs": [
    {
     "name": "stdout",
     "output_type": "stream",
     "text": [
      "6\n",
      "6\n",
      "6\n"
     ]
    }
   ],
   "source": [
    "a=b=c=6\n",
    "print(a)\n",
    "print(b)\n",
    "print(c)"
   ]
  },
  {
   "cell_type": "markdown",
   "id": "5fa98f09-2aaa-4860-b976-ecf0cfa1cfb3",
   "metadata": {},
   "source": [
    "Keywords"
   ]
  }
 ],
 "metadata": {
  "kernelspec": {
   "display_name": "Python 3 (ipykernel)",
   "language": "python",
   "name": "python3"
  },
  "language_info": {
   "codemirror_mode": {
    "name": "ipython",
    "version": 3
   },
   "file_extension": ".py",
   "mimetype": "text/x-python",
   "name": "python",
   "nbconvert_exporter": "python",
   "pygments_lexer": "ipython3",
   "version": "3.9.12"
  }
 },
 "nbformat": 4,
 "nbformat_minor": 5
}
