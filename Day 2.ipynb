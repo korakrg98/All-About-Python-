{
 "cells": [
  {
   "cell_type": "markdown",
   "id": "c2346645-612c-4f3e-93dd-e3d3ec86af1a",
   "metadata": {
    "tags": []
   },
   "source": [
    "Keywords"
   ]
  },
  {
   "cell_type": "markdown",
   "id": "4b4806ba-c558-422f-ab85-f22b989fb4b0",
   "metadata": {},
   "source": [
    "python is a case sensitive programming language"
   ]
  },
  {
   "cell_type": "markdown",
   "id": "7d9d1148-8d47-4dea-a3b8-6ad3005c1f24",
   "metadata": {},
   "source": [
    "In programming, a keyword is a word that is reserved by a program because the word has a special meaning. Keywords can be commands or parameters. Every programming language has a set of keywords that cannot be used as variable names."
   ]
  },
  {
   "cell_type": "code",
   "execution_count": 3,
   "id": "1c2ff6aa-61b0-4b5f-872d-8c6c1f517657",
   "metadata": {},
   "outputs": [
    {
     "name": "stdout",
     "output_type": "stream",
     "text": [
      "['False', 'None', 'True', '__peg_parser__', 'and', 'as', 'assert', 'async', 'await', 'break', 'class', 'continue', 'def', 'del', 'elif', 'else', 'except', 'finally', 'for', 'from', 'global', 'if', 'import', 'in', 'is', 'lambda', 'nonlocal', 'not', 'or', 'pass', 'raise', 'return', 'try', 'while', 'with', 'yield']\n"
     ]
    }
   ],
   "source": [
    "#python has 36 keywords\n",
    "import keyword\n",
    "print(keyword.kwlist)"
   ]
  },
  {
   "cell_type": "raw",
   "id": "5db069f6-ee95-4378-a44c-9b3c733b0172",
   "metadata": {},
   "source": []
  },
  {
   "cell_type": "markdown",
   "id": "56a1aad0-dd2a-4726-9509-416238472a5d",
   "metadata": {},
   "source": [
    "Identifiers\n"
   ]
  },
  {
   "cell_type": "markdown",
   "id": "f9577277-c5f5-44b4-8be3-dffbbacbb8fb",
   "metadata": {},
   "source": [
    "A python identifier is a name used to identify a variable , funtion, class , module or other object."
   ]
  },
  {
   "cell_type": "markdown",
   "id": "d5a44120-6b7e-42af-af0e-f71ccd39695c",
   "metadata": {},
   "source": [
    "Rules of setting Identifiers"
   ]
  },
  {
   "cell_type": "markdown",
   "id": "572ab5a6-d482-4e83-a64a-97ea5a44d587",
   "metadata": {},
   "source": [
    "i) can only start with an alphabet or _\n",
    "\n",
    "ii) Followed by 0 or more letters,_ and digits\n",
    "\n",
    "iii) keywords cannot be used as an identifier"
   ]
  },
  {
   "cell_type": "code",
   "execution_count": null,
   "id": "84f92883-71ca-4025-96c2-58b64b64e31d",
   "metadata": {},
   "outputs": [],
   "source": []
  }
 ],
 "metadata": {
  "kernelspec": {
   "display_name": "Python 3 (ipykernel)",
   "language": "python",
   "name": "python3"
  },
  "language_info": {
   "codemirror_mode": {
    "name": "ipython",
    "version": 3
   },
   "file_extension": ".py",
   "mimetype": "text/x-python",
   "name": "python",
   "nbconvert_exporter": "python",
   "pygments_lexer": "ipython3",
   "version": "3.9.12"
  }
 },
 "nbformat": 4,
 "nbformat_minor": 5
}
