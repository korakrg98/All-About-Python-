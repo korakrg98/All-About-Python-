{
 "cells": [
  {
   "cell_type": "code",
   "execution_count": 1,
   "id": "662a3eba-6e6e-4b5e-bd0f-18ac1b47ab3c",
   "metadata": {},
   "outputs": [
    {
     "name": "stdin",
     "output_type": "stream",
     "text": [
      " 56\n"
     ]
    },
    {
     "data": {
      "text/plain": [
       "'56'"
      ]
     },
     "execution_count": 1,
     "metadata": {},
     "output_type": "execute_result"
    }
   ],
   "source": [
    "input()"
   ]
  },
  {
   "cell_type": "code",
   "execution_count": 2,
   "id": "70a6096c-1ad7-47bd-bb20-3f8b9d0136b7",
   "metadata": {},
   "outputs": [
    {
     "name": "stdin",
     "output_type": "stream",
     "text": [
      "please type your name  korak\n"
     ]
    },
    {
     "data": {
      "text/plain": [
       "'korak'"
      ]
     },
     "execution_count": 2,
     "metadata": {},
     "output_type": "execute_result"
    }
   ],
   "source": [
    "input(\"please type your name \")"
   ]
  },
  {
   "cell_type": "code",
   "execution_count": 3,
   "id": "710cfa94-4e93-4dfd-b833-767b2a777ad5",
   "metadata": {},
   "outputs": [
    {
     "name": "stdin",
     "output_type": "stream",
     "text": [
      "Enter the first number  5\n",
      "Enter the second number  6\n"
     ]
    }
   ],
   "source": [
    "first_number = input(\"Enter the first number \")\n",
    "second_number = input(\"Enter the second number \")"
   ]
  },
  {
   "cell_type": "code",
   "execution_count": 5,
   "id": "e554e209-d0a8-49e7-bd04-3c6a21d03bbb",
   "metadata": {},
   "outputs": [
    {
     "name": "stdout",
     "output_type": "stream",
     "text": [
      "5\n",
      "6\n"
     ]
    }
   ],
   "source": [
    "print(first_number)\n",
    "print(second_number)"
   ]
  },
  {
   "cell_type": "code",
   "execution_count": 6,
   "id": "9b2309f3-349a-4e2b-a2e9-e860bdd76c3d",
   "metadata": {},
   "outputs": [
    {
     "name": "stdout",
     "output_type": "stream",
     "text": [
      "56\n"
     ]
    }
   ],
   "source": [
    "result = first_number + second_number\n",
    "print(result)"
   ]
  },
  {
   "cell_type": "markdown",
   "id": "86f0b7cc-76c7-4c80-9c38-060eff751175",
   "metadata": {},
   "source": [
    "since string format is universal for taking input , so the numbers added litterly not by mathematical operation. so if we want to input various data types we have to catagorize them by their type. \n",
    "\n",
    "for example here the numbers are integer type so we have to catagorize them as int , and for other data types the format of taking input is same , for float we have to catagorize as float before giving input .\n",
    "\n",
    "\n"
   ]
  },
  {
   "cell_type": "markdown",
   "id": "21f4873b-fb0e-4487-bb79-dbde79abcd5a",
   "metadata": {},
   "source": [
    "\n",
    "now the correct format for writting this program is as follows:"
   ]
  },
  {
   "cell_type": "code",
   "execution_count": 7,
   "id": "32d8afc1-8671-4b07-9477-3b4721772898",
   "metadata": {},
   "outputs": [
    {
     "name": "stdin",
     "output_type": "stream",
     "text": [
      "Enter the first number  5\n",
      "Enter the second number  6\n"
     ]
    }
   ],
   "source": [
    "first_num = int(input(\"Enter the first number \"))\n",
    "second_num = int(input(\"Enter the second number \"))"
   ]
  },
  {
   "cell_type": "code",
   "execution_count": 8,
   "id": "7be3b3c7-008a-467c-a40a-b296fabd3f4f",
   "metadata": {},
   "outputs": [
    {
     "name": "stdout",
     "output_type": "stream",
     "text": [
      "5\n",
      "6\n"
     ]
    }
   ],
   "source": [
    "print(first_num)\n",
    "print(second_num)"
   ]
  },
  {
   "cell_type": "code",
   "execution_count": 9,
   "id": "eb1cb783-f7ca-4093-85dc-3d50e8f4a9cc",
   "metadata": {},
   "outputs": [
    {
     "name": "stdout",
     "output_type": "stream",
     "text": [
      "11\n"
     ]
    }
   ],
   "source": [
    "result_sum = first_num + second_num\n",
    "print(result_sum)"
   ]
  },
  {
   "cell_type": "markdown",
   "id": "62cb2563-23ed-44d4-a798-7b247f1f1a18",
   "metadata": {},
   "source": [
    "This thing is named \"Type Conversion\"\n",
    "\n",
    "N.B.- it is only possible when it is possible to convert, Mean you cant convert kolkata to a integer (like this conversion arent gonna happen"
   ]
  },
  {
   "cell_type": "markdown",
   "id": "9f4663b4-c9bf-4b15-ba5e-6ddb4e360334",
   "metadata": {},
   "source": [
    "two types of type conversions are there :\n",
    "\n",
    " implicit\n",
    " \n",
    " explicit"
   ]
  },
  {
   "cell_type": "markdown",
   "id": "9921e422-ee68-440c-b89d-c77385fbedb4",
   "metadata": {},
   "source": [
    "implicit : autodriven by python\n",
    "\n",
    "examples as follows:"
   ]
  },
  {
   "cell_type": "code",
   "execution_count": 23,
   "id": "9bd72c74-f924-445a-b8ba-0e97148ba0d6",
   "metadata": {},
   "outputs": [
    {
     "data": {
      "text/plain": [
       "9.5"
      ]
     },
     "execution_count": 23,
     "metadata": {},
     "output_type": "execute_result"
    }
   ],
   "source": [
    "4+5.5  #int + float no need to type conversion"
   ]
  },
  {
   "cell_type": "code",
   "execution_count": 24,
   "id": "cac144f5-33c0-4b54-a9fc-f998e31c2893",
   "metadata": {},
   "outputs": [
    {
     "data": {
      "text/plain": [
       "(7+11j)"
      ]
     },
     "execution_count": 24,
     "metadata": {},
     "output_type": "execute_result"
    }
   ],
   "source": [
    "6+1+11j #int + complex"
   ]
  },
  {
   "cell_type": "code",
   "execution_count": 25,
   "id": "56f58c5c-b1d4-44ce-8ada-e23a47eef76e",
   "metadata": {},
   "outputs": [
    {
     "data": {
      "text/plain": [
       "(12.5+5j)"
      ]
     },
     "execution_count": 25,
     "metadata": {},
     "output_type": "execute_result"
    }
   ],
   "source": [
    "4.5+8+5j  #float + int + complex"
   ]
  },
  {
   "cell_type": "markdown",
   "id": "8c461e6b-2c48-46da-b6b7-834115fe58e1",
   "metadata": {},
   "source": [
    "explicit : we have to tell python for type conversion\n",
    "just like first result"
   ]
  },
  {
   "cell_type": "markdown",
   "id": "968c7e31-ae92-480c-a65d-dc6e1d2a76f3",
   "metadata": {},
   "source": [
    "for explicit we have different function for different datatypes"
   ]
  },
  {
   "cell_type": "code",
   "execution_count": 26,
   "id": "683d3174-190c-4d86-b9b9-98b30d935be3",
   "metadata": {},
   "outputs": [
    {
     "data": {
      "text/plain": [
       "45"
      ]
     },
     "execution_count": 26,
     "metadata": {},
     "output_type": "execute_result"
    }
   ],
   "source": [
    "#int\n",
    "int(45)"
   ]
  },
  {
   "cell_type": "code",
   "execution_count": 27,
   "id": "ee36238c-7862-49cf-bded-279a80179fce",
   "metadata": {},
   "outputs": [
    {
     "data": {
      "text/plain": [
       "8.0"
      ]
     },
     "execution_count": 27,
     "metadata": {},
     "output_type": "execute_result"
    }
   ],
   "source": [
    "#float\n",
    "float(8)"
   ]
  },
  {
   "cell_type": "code",
   "execution_count": 28,
   "id": "345347bf-9276-4328-9aba-d354796ab801",
   "metadata": {},
   "outputs": [
    {
     "data": {
      "text/plain": [
       "'5'"
      ]
     },
     "execution_count": 28,
     "metadata": {},
     "output_type": "execute_result"
    }
   ],
   "source": [
    "#str\n",
    "str(5)"
   ]
  },
  {
   "cell_type": "code",
   "execution_count": 29,
   "id": "5b0a3c3e-c8c8-44b2-9309-ad0d16c7dca6",
   "metadata": {},
   "outputs": [
    {
     "data": {
      "text/plain": [
       "True"
      ]
     },
     "execution_count": 29,
     "metadata": {},
     "output_type": "execute_result"
    }
   ],
   "source": [
    "#boolean\n",
    "bool(1)"
   ]
  },
  {
   "cell_type": "code",
   "execution_count": 30,
   "id": "b3883e57-a9a2-4340-8999-da52d22b1813",
   "metadata": {},
   "outputs": [
    {
     "data": {
      "text/plain": [
       "False"
      ]
     },
     "execution_count": 30,
     "metadata": {},
     "output_type": "execute_result"
    }
   ],
   "source": [
    "bool(0)"
   ]
  },
  {
   "cell_type": "code",
   "execution_count": 31,
   "id": "54628e21-08cd-47c0-bfda-4b1a32dcdeb5",
   "metadata": {},
   "outputs": [
    {
     "data": {
      "text/plain": [
       "(4+0j)"
      ]
     },
     "execution_count": 31,
     "metadata": {},
     "output_type": "execute_result"
    }
   ],
   "source": [
    "complex(4)"
   ]
  },
  {
   "cell_type": "code",
   "execution_count": 32,
   "id": "05e91ec2-5f40-49e5-a718-4772ac657207",
   "metadata": {},
   "outputs": [
    {
     "data": {
      "text/plain": [
       "['H', 'e', 'l', 'l', 'o']"
      ]
     },
     "execution_count": 32,
     "metadata": {},
     "output_type": "execute_result"
    }
   ],
   "source": [
    "list(\"Hello\")"
   ]
  },
  {
   "cell_type": "code",
   "execution_count": 33,
   "id": "68331d85-d42b-40b3-b4ec-b6565c220f16",
   "metadata": {},
   "outputs": [
    {
     "ename": "ValueError",
     "evalue": "invalid literal for int() with base 10: 'kolkata'",
     "output_type": "error",
     "traceback": [
      "\u001b[0;31m---------------------------------------------------------------------------\u001b[0m",
      "\u001b[0;31mValueError\u001b[0m                                Traceback (most recent call last)",
      "Input \u001b[0;32mIn [33]\u001b[0m, in \u001b[0;36m<cell line: 1>\u001b[0;34m()\u001b[0m\n\u001b[0;32m----> 1\u001b[0m \u001b[38;5;28;43mint\u001b[39;49m\u001b[43m(\u001b[49m\u001b[38;5;124;43m\"\u001b[39;49m\u001b[38;5;124;43mkolkata\u001b[39;49m\u001b[38;5;124;43m\"\u001b[39;49m\u001b[43m)\u001b[49m\n",
      "\u001b[0;31mValueError\u001b[0m: invalid literal for int() with base 10: 'kolkata'"
     ]
    }
   ],
   "source": [
    "int(\"kolkata\")  "
   ]
  },
  {
   "cell_type": "markdown",
   "id": "42dd3c4c-bc47-4863-86ff-94db42f6be38",
   "metadata": {},
   "source": [
    "this is never gonna happen , only conversion possible when its logically possible"
   ]
  },
  {
   "cell_type": "markdown",
   "id": "a20e717f-e196-4436-9fea-b4ecaa58ae0a",
   "metadata": {},
   "source": [
    "type conversion is not a permanent conversion"
   ]
  },
  {
   "cell_type": "code",
   "execution_count": 35,
   "id": "4f040083-f04c-4dd5-844a-bb9c77111e15",
   "metadata": {},
   "outputs": [],
   "source": [
    "a = 4.5\n"
   ]
  },
  {
   "cell_type": "code",
   "execution_count": 39,
   "id": "73372788-6c06-42c8-8c35-66a2cbd7be6c",
   "metadata": {},
   "outputs": [
    {
     "data": {
      "text/plain": [
       "4"
      ]
     },
     "execution_count": 39,
     "metadata": {},
     "output_type": "execute_result"
    }
   ],
   "source": [
    "int(a)"
   ]
  },
  {
   "cell_type": "code",
   "execution_count": 37,
   "id": "5af4da86-b864-415e-b71d-920d6a611345",
   "metadata": {},
   "outputs": [
    {
     "data": {
      "text/plain": [
       "4.5"
      ]
     },
     "execution_count": 37,
     "metadata": {},
     "output_type": "execute_result"
    }
   ],
   "source": [
    "a"
   ]
  },
  {
   "cell_type": "code",
   "execution_count": 40,
   "id": "997b12ab-b63c-46f5-9126-ba2f4c871602",
   "metadata": {},
   "outputs": [],
   "source": [
    "b = int(a)"
   ]
  },
  {
   "cell_type": "code",
   "execution_count": 41,
   "id": "891dd4b5-7923-4a66-8a33-53f0407f9f4a",
   "metadata": {},
   "outputs": [
    {
     "data": {
      "text/plain": [
       "4"
      ]
     },
     "execution_count": 41,
     "metadata": {},
     "output_type": "execute_result"
    }
   ],
   "source": [
    "b"
   ]
  },
  {
   "cell_type": "markdown",
   "id": "2647d304-da37-49c6-b1a4-6876e32ac854",
   "metadata": {},
   "source": [
    "its convert the actual variable to a converted variable but the actual value remain same."
   ]
  },
  {
   "cell_type": "code",
   "execution_count": 11,
   "id": "d7c179ea-f966-4540-8767-d0ea612c5d8a",
   "metadata": {},
   "outputs": [
    {
     "data": {
      "text/plain": [
       "str"
      ]
     },
     "execution_count": 11,
     "metadata": {},
     "output_type": "execute_result"
    }
   ],
   "source": [
    "#type function\n",
    "\n",
    "type (result_sum)"
   ]
  },
  {
   "cell_type": "code",
   "execution_count": 20,
   "id": "dc872fe5-814e-4a1c-870e-e8832042874c",
   "metadata": {},
   "outputs": [
    {
     "data": {
      "text/plain": [
       "int"
      ]
     },
     "execution_count": 20,
     "metadata": {},
     "output_type": "execute_result"
    }
   ],
   "source": [
    "type(first_num)"
   ]
  },
  {
   "cell_type": "code",
   "execution_count": 21,
   "id": "f57d9235-1214-49e6-b53f-25bebd834e64",
   "metadata": {},
   "outputs": [
    {
     "data": {
      "text/plain": [
       "str"
      ]
     },
     "execution_count": 21,
     "metadata": {},
     "output_type": "execute_result"
    }
   ],
   "source": [
    "type(first_number)"
   ]
  },
  {
   "cell_type": "code",
   "execution_count": 12,
   "id": "8254dc11-93af-4bc8-a8f6-9999c72a8227",
   "metadata": {},
   "outputs": [
    {
     "data": {
      "text/plain": [
       "int"
      ]
     },
     "execution_count": 12,
     "metadata": {},
     "output_type": "execute_result"
    }
   ],
   "source": [
    "type(4)"
   ]
  },
  {
   "cell_type": "code",
   "execution_count": 13,
   "id": "d20f395b-3923-42ea-9382-1fe3e664043b",
   "metadata": {},
   "outputs": [
    {
     "data": {
      "text/plain": [
       "float"
      ]
     },
     "execution_count": 13,
     "metadata": {},
     "output_type": "execute_result"
    }
   ],
   "source": [
    "type(3.5)"
   ]
  },
  {
   "cell_type": "code",
   "execution_count": 14,
   "id": "ad3b7778-3e6d-468f-b9f4-318fba4260cc",
   "metadata": {},
   "outputs": [
    {
     "data": {
      "text/plain": [
       "bool"
      ]
     },
     "execution_count": 14,
     "metadata": {},
     "output_type": "execute_result"
    }
   ],
   "source": [
    "type(False)"
   ]
  },
  {
   "cell_type": "code",
   "execution_count": 15,
   "id": "0ab1cbf3-1f93-4c3c-9c2d-13b23667e420",
   "metadata": {},
   "outputs": [
    {
     "data": {
      "text/plain": [
       "list"
      ]
     },
     "execution_count": 15,
     "metadata": {},
     "output_type": "execute_result"
    }
   ],
   "source": [
    "type([1,2,3,4])"
   ]
  },
  {
   "cell_type": "code",
   "execution_count": 22,
   "id": "cd674c80-bbc2-4191-a6ee-5bf2a4554429",
   "metadata": {},
   "outputs": [
    {
     "data": {
      "text/plain": [
       "str"
      ]
     },
     "execution_count": 22,
     "metadata": {},
     "output_type": "execute_result"
    }
   ],
   "source": [
    "type(second_number)"
   ]
  },
  {
   "cell_type": "code",
   "execution_count": 17,
   "id": "ca78d1f0-cf35-41c9-ac6f-5b2ce2523fd9",
   "metadata": {},
   "outputs": [
    {
     "data": {
      "text/plain": [
       "complex"
      ]
     },
     "execution_count": 17,
     "metadata": {},
     "output_type": "execute_result"
    }
   ],
   "source": [
    "type(4+6j)"
   ]
  },
  {
   "cell_type": "code",
   "execution_count": 18,
   "id": "017504c6-db34-4286-9a2c-d607ffa0c3fc",
   "metadata": {},
   "outputs": [
    {
     "data": {
      "text/plain": [
       "set"
      ]
     },
     "execution_count": 18,
     "metadata": {},
     "output_type": "execute_result"
    }
   ],
   "source": [
    "type({1,2,3})"
   ]
  },
  {
   "cell_type": "code",
   "execution_count": 19,
   "id": "c0e7c97c-c7db-4106-a833-06e0abf68f6a",
   "metadata": {},
   "outputs": [
    {
     "data": {
      "text/plain": [
       "str"
      ]
     },
     "execution_count": 19,
     "metadata": {},
     "output_type": "execute_result"
    }
   ],
   "source": [
    "type(\"566\")"
   ]
  },
  {
   "cell_type": "code",
   "execution_count": null,
   "id": "bdb19ec9-8b06-4ddd-be5c-ea90afa7dedd",
   "metadata": {},
   "outputs": [],
   "source": []
  }
 ],
 "metadata": {
  "kernelspec": {
   "display_name": "Python 3 (ipykernel)",
   "language": "python",
   "name": "python3"
  },
  "language_info": {
   "codemirror_mode": {
    "name": "ipython",
    "version": 3
   },
   "file_extension": ".py",
   "mimetype": "text/x-python",
   "name": "python",
   "nbconvert_exporter": "python",
   "pygments_lexer": "ipython3",
   "version": "3.9.12"
  }
 },
 "nbformat": 4,
 "nbformat_minor": 5
}
