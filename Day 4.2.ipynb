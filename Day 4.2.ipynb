{
 "cells": [
  {
   "cell_type": "markdown",
   "id": "e7dfcb72-53d7-406a-9d2d-7c40e87ec96e",
   "metadata": {},
   "source": [
    "# Operators\n"
   ]
  },
  {
   "cell_type": "markdown",
   "id": "a26f5116-2382-46f7-a44a-dfe850d9e294",
   "metadata": {},
   "source": [
    "Operators are used to perform operations on variables and values. \n",
    "Python has the following operators:"
   ]
  },
  {
   "cell_type": "markdown",
   "id": "cfc018e9-686e-4c68-88cd-047ef7799d2a",
   "metadata": {},
   "source": [
    "1) Arithmetic\n",
    "2) Comparison\n",
    "3) Logical\n",
    "4) Bitwise\n",
    "5) Assignment \n",
    "6) Identity\n",
    "7) Membership"
   ]
  },
  {
   "cell_type": "markdown",
   "id": "8cacf0b7-39ae-4ca3-99ec-49d5b470557d",
   "metadata": {},
   "source": [
    "Arithmetic operators"
   ]
  },
  {
   "cell_type": "code",
   "execution_count": 1,
   "id": "988ab8a0-5134-4fff-88ba-328ba02612fd",
   "metadata": {},
   "outputs": [
    {
     "name": "stdout",
     "output_type": "stream",
     "text": [
      "7\n"
     ]
    }
   ],
   "source": [
    "x = 5\n",
    "y = 2\n",
    "\n",
    "print(x + y)"
   ]
  },
  {
   "cell_type": "code",
   "execution_count": 2,
   "id": "11b64d2a-8091-490f-9028-a58ffd44ec6e",
   "metadata": {},
   "outputs": [
    {
     "name": "stdout",
     "output_type": "stream",
     "text": [
      "3\n"
     ]
    }
   ],
   "source": [
    "print(x - y)"
   ]
  },
  {
   "cell_type": "code",
   "execution_count": 3,
   "id": "96f824c3-7c4a-479c-832a-775df11cb7b1",
   "metadata": {},
   "outputs": [
    {
     "name": "stdout",
     "output_type": "stream",
     "text": [
      "10\n"
     ]
    }
   ],
   "source": [
    "print(x * y)"
   ]
  },
  {
   "cell_type": "code",
   "execution_count": 4,
   "id": "42161090-30b7-4f35-95aa-ba0b44f0e561",
   "metadata": {},
   "outputs": [
    {
     "name": "stdout",
     "output_type": "stream",
     "text": [
      "2.5\n"
     ]
    }
   ],
   "source": [
    "print(x/y)"
   ]
  },
  {
   "cell_type": "code",
   "execution_count": 5,
   "id": "b161be31-4228-44b7-95d3-01ae808781a5",
   "metadata": {},
   "outputs": [
    {
     "name": "stdout",
     "output_type": "stream",
     "text": [
      "1\n"
     ]
    }
   ],
   "source": [
    "print(x%y)   #modules operator to calculate the remainder of the division"
   ]
  },
  {
   "cell_type": "code",
   "execution_count": 7,
   "id": "870aed6f-d8f2-4417-9916-5aecb2da8eea",
   "metadata": {},
   "outputs": [
    {
     "name": "stdout",
     "output_type": "stream",
     "text": [
      "25\n"
     ]
    }
   ],
   "source": [
    "print(x ** y) #power operator"
   ]
  },
  {
   "cell_type": "code",
   "execution_count": 8,
   "id": "f7c90d50-6f58-456f-914e-4226a3d86387",
   "metadata": {},
   "outputs": [
    {
     "name": "stdout",
     "output_type": "stream",
     "text": [
      "2\n"
     ]
    }
   ],
   "source": [
    "print(x // 2)   #integer division"
   ]
  },
  {
   "cell_type": "markdown",
   "id": "7d5ab886-1960-4ee8-ace1-828fe7a9ce89",
   "metadata": {},
   "source": [
    "Comparison Operators"
   ]
  },
  {
   "cell_type": "markdown",
   "id": "8014d98d-a21c-4b38-87bd-1a0d5240a966",
   "metadata": {},
   "source": [
    "Also called as relational operators"
   ]
  },
  {
   "cell_type": "code",
   "execution_count": 9,
   "id": "df78ce6c-0f68-42ae-92dc-70170ee97753",
   "metadata": {},
   "outputs": [
    {
     "name": "stdout",
     "output_type": "stream",
     "text": [
      "True\n"
     ]
    }
   ],
   "source": [
    "print(x > y)"
   ]
  },
  {
   "cell_type": "code",
   "execution_count": 10,
   "id": "2bc51004-3bc9-45ca-88ba-dc54073c02ad",
   "metadata": {},
   "outputs": [
    {
     "name": "stdout",
     "output_type": "stream",
     "text": [
      "False\n"
     ]
    }
   ],
   "source": [
    "print(x < y)"
   ]
  },
  {
   "cell_type": "code",
   "execution_count": 11,
   "id": "d99b5528-de9b-4e5e-bf7f-b4a5b7dc5aba",
   "metadata": {},
   "outputs": [
    {
     "name": "stdout",
     "output_type": "stream",
     "text": [
      "True\n"
     ]
    }
   ],
   "source": [
    "print(x >= y)"
   ]
  },
  {
   "cell_type": "code",
   "execution_count": 12,
   "id": "ee671edf-8523-410f-9be9-41802439445c",
   "metadata": {},
   "outputs": [
    {
     "name": "stdout",
     "output_type": "stream",
     "text": [
      "False\n"
     ]
    }
   ],
   "source": [
    "print(x <= y)"
   ]
  },
  {
   "cell_type": "code",
   "execution_count": 13,
   "id": "6deedba9-e87e-4f27-acb1-59d66d05c227",
   "metadata": {},
   "outputs": [
    {
     "name": "stdout",
     "output_type": "stream",
     "text": [
      "False\n"
     ]
    }
   ],
   "source": [
    "print(x == y)"
   ]
  },
  {
   "cell_type": "code",
   "execution_count": 14,
   "id": "f3cbb90d-6361-483c-be07-668f87d1e040",
   "metadata": {},
   "outputs": [
    {
     "name": "stdout",
     "output_type": "stream",
     "text": [
      "True\n"
     ]
    }
   ],
   "source": [
    "print(x != y)"
   ]
  },
  {
   "cell_type": "markdown",
   "id": "1f347d44-b4b1-492a-a45a-55787d544de5",
   "metadata": {},
   "source": [
    "Logical Operators"
   ]
  },
  {
   "cell_type": "code",
   "execution_count": 15,
   "id": "5ae98ec6-61be-44b0-aefa-6f278b8cceb3",
   "metadata": {},
   "outputs": [],
   "source": [
    "a = True\n",
    "b = False"
   ]
  },
  {
   "cell_type": "code",
   "execution_count": 16,
   "id": "d277ff1b-be99-445b-b57c-e2b6315a1c76",
   "metadata": {},
   "outputs": [
    {
     "name": "stdout",
     "output_type": "stream",
     "text": [
      "True\n"
     ]
    }
   ],
   "source": [
    "print(a or b)     #either or "
   ]
  },
  {
   "cell_type": "code",
   "execution_count": 17,
   "id": "9715e0f2-5cac-443c-b547-af2a2512c426",
   "metadata": {},
   "outputs": [
    {
     "name": "stdout",
     "output_type": "stream",
     "text": [
      "False\n"
     ]
    }
   ],
   "source": [
    "print(a and b)    #both need to be true "
   ]
  },
  {
   "cell_type": "code",
   "execution_count": 20,
   "id": "a9c379dc-0bc9-4eb7-ac39-01a836a8794f",
   "metadata": {},
   "outputs": [
    {
     "name": "stdout",
     "output_type": "stream",
     "text": [
      "False\n"
     ]
    }
   ],
   "source": [
    "print(not a)     #based on current value"
   ]
  },
  {
   "cell_type": "code",
   "execution_count": 19,
   "id": "4b87fa24-27a1-4e88-9392-3e4154cb8004",
   "metadata": {},
   "outputs": [
    {
     "name": "stdout",
     "output_type": "stream",
     "text": [
      "True\n"
     ]
    }
   ],
   "source": [
    "print(not b)"
   ]
  },
  {
   "cell_type": "markdown",
   "id": "bdb6166b-5d5a-4c07-8add-7a8e38a14db7",
   "metadata": {},
   "source": [
    "Bitwise Operators"
   ]
  },
  {
   "cell_type": "code",
   "execution_count": 1,
   "id": "4ae11dd2-34f2-40df-90a6-8ba2e706acd7",
   "metadata": {},
   "outputs": [],
   "source": [
    "x = 2 \n",
    "y = 3"
   ]
  },
  {
   "cell_type": "code",
   "execution_count": 3,
   "id": "c5462100-b1e1-40da-bf1a-36b924fe8a8e",
   "metadata": {},
   "outputs": [
    {
     "name": "stdout",
     "output_type": "stream",
     "text": [
      "2\n"
     ]
    }
   ],
   "source": [
    "print(x & y)  #bitwise &(and)"
   ]
  },
  {
   "cell_type": "markdown",
   "id": "afa6a6a8-829c-403a-af4c-6dad1dd2a507",
   "metadata": {},
   "source": [
    "010\n",
    "\n",
    "110\n",
    "\n",
    "---\n",
    "010    \n",
    "\n",
    "thats why it gives the output 2 for and operator in print function"
   ]
  },
  {
   "cell_type": "code",
   "execution_count": 4,
   "id": "d574a544-244a-47cb-9d40-892a9b7ed553",
   "metadata": {},
   "outputs": [
    {
     "name": "stdout",
     "output_type": "stream",
     "text": [
      "3\n"
     ]
    }
   ],
   "source": [
    "#similarly we can\n",
    "\n",
    "print(x | y)     #bitwise or operator"
   ]
  },
  {
   "cell_type": "markdown",
   "id": "ded95996-90d7-49c0-a7e6-3cb0d68edee0",
   "metadata": {},
   "source": [
    "010\n",
    "\n",
    "110 \n",
    "\n",
    "---\n",
    "\n",
    "110"
   ]
  },
  {
   "cell_type": "code",
   "execution_count": 5,
   "id": "6aa9ea3b-f6fd-4a6e-8f66-e6f9b8a7cd40",
   "metadata": {},
   "outputs": [
    {
     "name": "stdout",
     "output_type": "stream",
     "text": [
      "0\n"
     ]
    }
   ],
   "source": [
    "print(x >> 2)"
   ]
  },
  {
   "cell_type": "code",
   "execution_count": 6,
   "id": "fa8e3161-13b9-4cf0-88f1-12c0ef5dcaee",
   "metadata": {},
   "outputs": [
    {
     "name": "stdout",
     "output_type": "stream",
     "text": [
      "24\n"
     ]
    }
   ],
   "source": [
    "print(y << 3)"
   ]
  },
  {
   "cell_type": "code",
   "execution_count": 7,
   "id": "507ee745-06d7-4701-abab-ee6f02b68987",
   "metadata": {},
   "outputs": [
    {
     "name": "stdout",
     "output_type": "stream",
     "text": [
      "-3\n"
     ]
    }
   ],
   "source": [
    "print(~x)"
   ]
  },
  {
   "cell_type": "markdown",
   "id": "b126452f-4357-4172-9bb7-875cf775dbd7",
   "metadata": {},
   "source": [
    "Assignment Operator"
   ]
  },
  {
   "cell_type": "code",
   "execution_count": 8,
   "id": "3d20f902-f2d6-46b2-9363-48b2789d0454",
   "metadata": {},
   "outputs": [],
   "source": [
    "a = 3"
   ]
  },
  {
   "cell_type": "code",
   "execution_count": 9,
   "id": "bc2d34ef-9816-4178-8e35-5bbcacd0c312",
   "metadata": {},
   "outputs": [
    {
     "name": "stdout",
     "output_type": "stream",
     "text": [
      "3\n"
     ]
    }
   ],
   "source": [
    "print(a)"
   ]
  },
  {
   "cell_type": "markdown",
   "id": "b27684a5-f662-4402-83af-95a8e18d814b",
   "metadata": {},
   "source": [
    "Assign a value to a variable "
   ]
  },
  {
   "cell_type": "code",
   "execution_count": 10,
   "id": "b12cee33-a6a8-45ba-9619-3ca77bd140c0",
   "metadata": {},
   "outputs": [
    {
     "name": "stdout",
     "output_type": "stream",
     "text": [
      "6\n"
     ]
    }
   ],
   "source": [
    "a += 3\n",
    "\n",
    "print(a)"
   ]
  },
  {
   "cell_type": "code",
   "execution_count": 11,
   "id": "8a3366f6-f07e-4896-bce1-9f689a3c6a42",
   "metadata": {},
   "outputs": [],
   "source": [
    "# a = a+3"
   ]
  },
  {
   "cell_type": "code",
   "execution_count": 15,
   "id": "bf46cffd-3563-4c92-afb9-ed7745334249",
   "metadata": {},
   "outputs": [],
   "source": [
    "a -= 3"
   ]
  },
  {
   "cell_type": "code",
   "execution_count": 13,
   "id": "16adc1c6-6fa5-4854-8535-ef761f78a466",
   "metadata": {},
   "outputs": [
    {
     "name": "stdout",
     "output_type": "stream",
     "text": [
      "3\n"
     ]
    }
   ],
   "source": [
    "print(a)"
   ]
  },
  {
   "cell_type": "code",
   "execution_count": 16,
   "id": "64109980-9b47-45c8-9651-91c87bb177fb",
   "metadata": {},
   "outputs": [
    {
     "name": "stdout",
     "output_type": "stream",
     "text": [
      "0\n"
     ]
    }
   ],
   "source": [
    "a *= 3\n",
    "print(a)"
   ]
  },
  {
   "cell_type": "code",
   "execution_count": 17,
   "id": "7f90f720-2998-4446-9bc8-be3f0c6be9f8",
   "metadata": {},
   "outputs": [],
   "source": [
    "a = 3"
   ]
  },
  {
   "cell_type": "code",
   "execution_count": 18,
   "id": "0450fd8b-947e-4f54-8761-705765858b12",
   "metadata": {},
   "outputs": [
    {
     "name": "stdout",
     "output_type": "stream",
     "text": [
      "9\n"
     ]
    }
   ],
   "source": [
    "a *=3\n",
    "print(a)"
   ]
  },
  {
   "cell_type": "code",
   "execution_count": 19,
   "id": "428c7b9a-c4b3-4466-9caa-ccc38e762c45",
   "metadata": {},
   "outputs": [
    {
     "name": "stdout",
     "output_type": "stream",
     "text": [
      "1\n"
     ]
    }
   ],
   "source": [
    "a &= 3\n",
    "print(a)"
   ]
  },
  {
   "cell_type": "code",
   "execution_count": 20,
   "id": "3b01b955-9dc6-455d-b92e-decf189d6540",
   "metadata": {},
   "outputs": [
    {
     "ename": "SyntaxError",
     "evalue": "invalid syntax (3802894139.py, line 1)",
     "output_type": "error",
     "traceback": [
      "\u001b[0;36m  Input \u001b[0;32mIn [20]\u001b[0;36m\u001b[0m\n\u001b[0;31m    a++\u001b[0m\n\u001b[0m       ^\u001b[0m\n\u001b[0;31mSyntaxError\u001b[0m\u001b[0;31m:\u001b[0m invalid syntax\n"
     ]
    }
   ],
   "source": [
    "a++\n",
    "++a"
   ]
  },
  {
   "cell_type": "markdown",
   "id": "8f421287-2171-44f0-b6da-b18608cc1afd",
   "metadata": {},
   "source": [
    "Idnetity Operator"
   ]
  },
  {
   "cell_type": "code",
   "execution_count": 21,
   "id": "25bdd2e1-0249-490a-b5f1-6b02699b41e8",
   "metadata": {},
   "outputs": [
    {
     "name": "stdout",
     "output_type": "stream",
     "text": [
      "True\n"
     ]
    }
   ],
   "source": [
    "a = 3\n",
    "b = 3\n",
    "\n",
    "print(a is b)"
   ]
  },
  {
   "cell_type": "markdown",
   "id": "6e31fa53-e27b-4fdc-956d-2a5a121d0ce6",
   "metadata": {},
   "source": [
    "a & b are both in same memory location so it gives the output True"
   ]
  },
  {
   "cell_type": "code",
   "execution_count": 22,
   "id": "2bccc56c-9566-497d-bb59-9967253d1f32",
   "metadata": {},
   "outputs": [
    {
     "name": "stdout",
     "output_type": "stream",
     "text": [
      "True\n"
     ]
    }
   ],
   "source": [
    "a = \"hello\"\n",
    "b = \"hello\"\n",
    "\n",
    "print(a is b)"
   ]
  },
  {
   "cell_type": "code",
   "execution_count": 23,
   "id": "f1fc98c4-8bcd-44c8-a76c-f82ce81e568a",
   "metadata": {},
   "outputs": [
    {
     "name": "stdout",
     "output_type": "stream",
     "text": [
      "False\n"
     ]
    }
   ],
   "source": [
    "a = [1,2,3]\n",
    "b = [1,2.3]\n",
    "\n",
    "print(a is b)"
   ]
  },
  {
   "cell_type": "markdown",
   "id": "1df1af87-ac4c-48ff-b1df-8b83ecf5f70b",
   "metadata": {},
   "source": [
    "although a = b , but these two stored in different location so the output is coming as False. it doesnt matter two or more things look familiar while inputing , they still can stored in different locations\n"
   ]
  },
  {
   "cell_type": "code",
   "execution_count": 24,
   "id": "9e2194b1-0e22-489e-83ef-b87a31cc5b72",
   "metadata": {},
   "outputs": [
    {
     "name": "stdout",
     "output_type": "stream",
     "text": [
      "False\n"
     ]
    }
   ],
   "source": [
    "a = \"hello-world\"\n",
    "b = \"hello-world\"\n",
    "\n",
    "print(a is b)     #we can use \"is not\" operator f"
   ]
  },
  {
   "cell_type": "markdown",
   "id": "af6f1ac4-5d5e-4366-900f-a460d03b471f",
   "metadata": {},
   "source": [
    "Membership Operator"
   ]
  },
  {
   "cell_type": "code",
   "execution_count": 25,
   "id": "e7d9fa23-16b3-46d8-befb-5ad480b01900",
   "metadata": {},
   "outputs": [
    {
     "name": "stdout",
     "output_type": "stream",
     "text": [
      "True\n"
     ]
    }
   ],
   "source": [
    "x = \"delhi\"\n",
    "\n",
    "print(\"d\" in x)"
   ]
  },
  {
   "cell_type": "code",
   "execution_count": 26,
   "id": "097d84d1-8d0b-4f65-8e27-a3e8a2ae8a74",
   "metadata": {},
   "outputs": [
    {
     "name": "stdout",
     "output_type": "stream",
     "text": [
      "False\n"
     ]
    }
   ],
   "source": [
    "print(\"d\" not in x )"
   ]
  },
  {
   "cell_type": "code",
   "execution_count": 28,
   "id": "9f342282-869c-46b2-9a00-5d5ec342bda9",
   "metadata": {},
   "outputs": [
    {
     "name": "stdout",
     "output_type": "stream",
     "text": [
      "True\n"
     ]
    }
   ],
   "source": [
    "y = [1,2,3]\n",
    "\n",
    "print(1 in y)"
   ]
  },
  {
   "cell_type": "code",
   "execution_count": 29,
   "id": "2ca95283-e798-4e4a-97f7-dd3179e2bda7",
   "metadata": {},
   "outputs": [
    {
     "name": "stdout",
     "output_type": "stream",
     "text": [
      "False\n"
     ]
    }
   ],
   "source": [
    "print(5 in y)"
   ]
  },
  {
   "cell_type": "markdown",
   "id": "74b8bfaf-2429-47e8-9afd-28dbdcb8ecae",
   "metadata": {},
   "source": [
    "this logic is applicable in sets,tuple,lists and dictionaries also"
   ]
  },
  {
   "cell_type": "code",
   "execution_count": null,
   "id": "ba5e7f70-7cbf-4237-8147-438e011a533e",
   "metadata": {},
   "outputs": [],
   "source": []
  }
 ],
 "metadata": {
  "kernelspec": {
   "display_name": "Python 3 (ipykernel)",
   "language": "python",
   "name": "python3"
  },
  "language_info": {
   "codemirror_mode": {
    "name": "ipython",
    "version": 3
   },
   "file_extension": ".py",
   "mimetype": "text/x-python",
   "name": "python",
   "nbconvert_exporter": "python",
   "pygments_lexer": "ipython3",
   "version": "3.9.12"
  }
 },
 "nbformat": 4,
 "nbformat_minor": 5
}
