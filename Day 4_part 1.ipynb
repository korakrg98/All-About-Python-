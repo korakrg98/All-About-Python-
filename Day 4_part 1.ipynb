{
 "cells": [
  {
   "cell_type": "markdown",
   "id": "1636796a-8abd-44e6-878e-173f5fc9b067",
   "metadata": {},
   "source": [
    "# Literals\n"
   ]
  },
  {
   "cell_type": "markdown",
   "id": "5cae3d91-3fa2-4f0c-8371-6e50da2cb107",
   "metadata": {},
   "source": [
    "Literal is a raw data given in a variable. In python, there are various types of literals, they are as follows:"
   ]
  },
  {
   "cell_type": "markdown",
   "id": "b05524f4-4036-4c11-9628-bc5aba6fa464",
   "metadata": {},
   "source": [
    "i) Numeric Literals\n",
    "\n",
    "ii) String Literals\n",
    "\n",
    "iii) Boolean Literals\n",
    "\n",
    "iv) Special Literals"
   ]
  },
  {
   "cell_type": "markdown",
   "id": "19929192-dcea-45a5-bfaa-3059078827c4",
   "metadata": {},
   "source": [
    "# Numeric Literals"
   ]
  },
  {
   "cell_type": "code",
   "execution_count": 1,
   "id": "ee64ae1f-3043-4afc-947e-e2ac5d6aafdf",
   "metadata": {},
   "outputs": [
    {
     "name": "stdout",
     "output_type": "stream",
     "text": [
      "10 100 200 300\n",
      "10.5 150.0 0.0015\n",
      "(8+3.14j) 3.14 8.0\n"
     ]
    }
   ],
   "source": [
    "a = 0b1010 #Binary Literals\n",
    "b = 100    #Decimal Literals\n",
    "c = 0o310  #Octal Literals\n",
    "d = 0x12c  #Hexadecimal Literals\n",
    "\n",
    "\n",
    "#float Literals\n",
    "float_1 = 10.5\n",
    "float_2 = 1.5e2\n",
    "float_3 = 1.5e-3\n",
    "\n",
    "#complex literals\n",
    "x = 8+3.14j\n",
    "\n",
    "print(a,b,c,d)\n",
    "print(float_1,float_2,float_3)\n",
    "print(x, x.imag, x.real)"
   ]
  },
  {
   "cell_type": "markdown",
   "id": "7821a32f-7378-437c-9bfa-62d4995b1e6d",
   "metadata": {},
   "source": [
    "# String Literals"
   ]
  },
  {
   "cell_type": "code",
   "execution_count": 2,
   "id": "670a461a-bba7-4b57-89ac-50676b0977c7",
   "metadata": {},
   "outputs": [
    {
     "name": "stdout",
     "output_type": "stream",
     "text": [
      "This is python\n",
      "This is pyhton\n",
      "C\n",
      "This is a multiline string with more than one line code.\n",
      "😀😆🤣\n",
      "raw \\n string\n"
     ]
    }
   ],
   "source": [
    "string = 'This is python'\n",
    "strings = \"This is pyhton\"\n",
    "char = \"C\"                #in python there is no concept as char , everything considers as string\n",
    "multiline_str = \"\"\"This is a multiline string with more than one line code.\"\"\"\n",
    "unicode = u\"\\U0001f600\\U0001F606\\U0001F923\"\n",
    "raw_str = r\"raw \\n string\"\n",
    "\n",
    "\n",
    "print(string)\n",
    "print(strings)\n",
    "print(char)\n",
    "print(multiline_str)\n",
    "print(unicode)\n",
    "print(raw_str)"
   ]
  },
  {
   "cell_type": "markdown",
   "id": "998ba572-4b3b-45fd-8010-e44541b70e3c",
   "metadata": {},
   "source": [
    "# Boolean Literals"
   ]
  },
  {
   "cell_type": "code",
   "execution_count": 3,
   "id": "a3f01f21-b1a5-45f6-b92d-f346c4e82304",
   "metadata": {},
   "outputs": [
    {
     "name": "stdout",
     "output_type": "stream",
     "text": [
      "a: 5\n",
      "b: 10\n"
     ]
    }
   ],
   "source": [
    "a = True + 4  #implicit type conversion \n",
    "b = False + 10\n",
    "\n",
    "print(\"a:\",a)\n",
    "print(\"b:\",b)"
   ]
  },
  {
   "cell_type": "markdown",
   "id": "4adc5b01-bb74-4fb4-a832-71a7d33c330c",
   "metadata": {},
   "source": [
    "# Special Literal"
   ]
  },
  {
   "cell_type": "code",
   "execution_count": 4,
   "id": "22e8233f-83a4-476a-aa08-45b6123ef586",
   "metadata": {},
   "outputs": [
    {
     "name": "stdout",
     "output_type": "stream",
     "text": [
      "None\n"
     ]
    }
   ],
   "source": [
    "a = None\n",
    "print(a)"
   ]
  },
  {
   "cell_type": "markdown",
   "id": "6f8983b0-a4ff-4b86-8c9d-3802eddd3f0c",
   "metadata": {},
   "source": [
    "this literal useful when we working in a team that we have to create some variable for other team members for their future uses, since in python there is nothing as define variable so we use this literal cause in python we have give some value to a variable to store it in a program."
   ]
  },
  {
   "cell_type": "code",
   "execution_count": 5,
   "id": "a16c0d95-4257-4c0b-babe-03e917f893da",
   "metadata": {},
   "outputs": [
    {
     "ename": "NameError",
     "evalue": "name 'k' is not defined",
     "output_type": "error",
     "traceback": [
      "\u001b[0;31m---------------------------------------------------------------------------\u001b[0m",
      "\u001b[0;31mNameError\u001b[0m                                 Traceback (most recent call last)",
      "Input \u001b[0;32mIn [5]\u001b[0m, in \u001b[0;36m<cell line: 1>\u001b[0;34m()\u001b[0m\n\u001b[0;32m----> 1\u001b[0m \u001b[43mk\u001b[49m\n",
      "\u001b[0;31mNameError\u001b[0m: name 'k' is not defined"
     ]
    }
   ],
   "source": [
    "k"
   ]
  },
  {
   "cell_type": "code",
   "execution_count": 6,
   "id": "33cc0b76-dc3b-4c7d-8318-01445c94f24f",
   "metadata": {},
   "outputs": [],
   "source": [
    "#but if we use \n",
    "\n",
    "k = None\n",
    "k"
   ]
  },
  {
   "cell_type": "code",
   "execution_count": null,
   "id": "fb1e0535-8ab6-4d34-b677-9ab55cc480fe",
   "metadata": {},
   "outputs": [],
   "source": []
  }
 ],
 "metadata": {
  "kernelspec": {
   "display_name": "Python 3 (ipykernel)",
   "language": "python",
   "name": "python3"
  },
  "language_info": {
   "codemirror_mode": {
    "name": "ipython",
    "version": 3
   },
   "file_extension": ".py",
   "mimetype": "text/x-python",
   "name": "python",
   "nbconvert_exporter": "python",
   "pygments_lexer": "ipython3",
   "version": "3.9.12"
  }
 },
 "nbformat": 4,
 "nbformat_minor": 5
}
