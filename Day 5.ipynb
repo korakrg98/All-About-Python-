{
 "cells": [
  {
   "cell_type": "markdown",
   "id": "d13374b4-029c-4014-934f-66df5ec361be",
   "metadata": {},
   "source": [
    "# Indentation"
   ]
  },
  {
   "cell_type": "markdown",
   "id": "eecd3ae5-c4f8-465c-8138-a7e8e0c205fe",
   "metadata": {},
   "source": [
    "Indentation is  necessary in python to write code , python has no curly braces _ semi colon thing to write code like other languages , pyhton creators made indentation thing mandatory to increase the code readibility and debugging faster, and use tab always to find right indentation.never use space.actually we can use space but many people dont use it cause its more time consuming"
   ]
  },
  {
   "cell_type": "markdown",
   "id": "4bbb2525-9c3a-41f9-b30d-bc1391ddda90",
   "metadata": {},
   "source": [
    "# If_Else statements in Python"
   ]
  },
  {
   "cell_type": "code",
   "execution_count": 1,
   "id": "7371eca1-ec68-438f-b400-2dcaa12747ae",
   "metadata": {},
   "outputs": [
    {
     "name": "stdin",
     "output_type": "stream",
     "text": [
      "tell us your email korak@gmail.com\n",
      "tell us your password 1234\n"
     ]
    },
    {
     "name": "stdout",
     "output_type": "stream",
     "text": [
      "welcome\n"
     ]
    }
   ],
   "source": [
    "#correct mail - korak@gmail.com\n",
    "#correct password - 1234\n",
    "\n",
    "email = input(\"tell us your email\")\n",
    "password = input(\"tell us your password\")\n",
    "\n",
    "if email == \"korak@gmail.com\" and password == \"1234\":\n",
    "    print(\"welcome\")\n",
    "else:\n",
    "    print(\"incorrect cradentials\")\n"
   ]
  },
  {
   "cell_type": "code",
   "execution_count": 3,
   "id": "29054d98-6601-467f-95de-3834fe3eb444",
   "metadata": {},
   "outputs": [
    {
     "name": "stdin",
     "output_type": "stream",
     "text": [
      "tell us your email korak@gmail.com\n",
      "tell us your password 12348\n"
     ]
    },
    {
     "name": "stdout",
     "output_type": "stream",
     "text": [
      "password incorrect\n"
     ]
    },
    {
     "name": "stdin",
     "output_type": "stream",
     "text": [
      "enter your password again 1234\n"
     ]
    },
    {
     "name": "stdout",
     "output_type": "stream",
     "text": [
      "finally correct\n"
     ]
    }
   ],
   "source": [
    "email = input(\"tell us your email\")\n",
    "password = input(\"tell us your password\")\n",
    "\n",
    "if email == \"korak@gmail.com\" and password == \"1234\":\n",
    "    print(\"welcome\")\n",
    "elif email == \"korak@gmail.com\" and password != \"1234\":\n",
    "    print(\"password incorrect\")\n",
    "    password = input(\"enter your password again\")\n",
    "    if password == \"1234\":\n",
    "        print(\"finally correct\")\n",
    "    else:\n",
    "        print(\"still incorrect\")\n",
    "else:\n",
    "    print(\"incorrect cradentials\")\n"
   ]
  },
  {
   "cell_type": "code",
   "execution_count": 5,
   "id": "935d6e54-7b0e-4252-9f32-089b1b80e399",
   "metadata": {},
   "outputs": [
    {
     "name": "stdin",
     "output_type": "stream",
     "text": [
      "tell us your email korakgmail.com\\\n"
     ]
    },
    {
     "name": "stdout",
     "output_type": "stream",
     "text": [
      "email is incorrect\n"
     ]
    }
   ],
   "source": [
    "email = input(\"tell us your email\")\n",
    "if '@' in email:\n",
    "    password = input(\"tell us your password\")\n",
    "\n",
    "    if email == \"korak@gmail.com\" and password == \"1234\":\n",
    "        print(\"welcome\")\n",
    "    elif email == \"korak@gmail.com\" and password != \"1234\":\n",
    "        print(\"password incorrect\")\n",
    "        password = input(\"enter your password again\")\n",
    "        if password == \"1234\":\n",
    "            print(\"finally correct\")\n",
    "        else:\n",
    "            print(\"still incorrect\")\n",
    "    else:\n",
    "        print(\"incorrect cradentials\")\n",
    "else:\n",
    "    print(\"email is incorrect\")\n"
   ]
  },
  {
   "cell_type": "code",
   "execution_count": null,
   "id": "4f2e3e1f-4e3f-44d1-8f29-4ba5564e3d98",
   "metadata": {},
   "outputs": [],
   "source": []
  }
 ],
 "metadata": {
  "kernelspec": {
   "display_name": "Python 3 (ipykernel)",
   "language": "python",
   "name": "python3"
  },
  "language_info": {
   "codemirror_mode": {
    "name": "ipython",
    "version": 3
   },
   "file_extension": ".py",
   "mimetype": "text/x-python",
   "name": "python",
   "nbconvert_exporter": "python",
   "pygments_lexer": "ipython3",
   "version": "3.9.12"
  }
 },
 "nbformat": 4,
 "nbformat_minor": 5
}
